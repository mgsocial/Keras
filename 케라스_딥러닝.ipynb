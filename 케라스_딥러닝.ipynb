{
  "nbformat": 4,
  "nbformat_minor": 0,
  "metadata": {
    "colab": {
      "name": "케라스 딥러닝",
      "version": "0.3.2",
      "provenance": [],
      "collapsed_sections": [
        "c4fjAdds_a9b"
      ],
      "include_colab_link": true
    },
    "kernelspec": {
      "name": "python3",
      "display_name": "Python 3"
    },
    "accelerator": "GPU"
  },
  "cells": [
    {
      "cell_type": "markdown",
      "metadata": {
        "id": "view-in-github",
        "colab_type": "text"
      },
      "source": [
        "<a href=\"https://colab.research.google.com/github/mgsocial/Keras/blob/master/%EC%BC%80%EB%9D%BC%EC%8A%A4_%EB%94%A5%EB%9F%AC%EB%8B%9D.ipynb\" target=\"_parent\"><img src=\"https://colab.research.google.com/assets/colab-badge.svg\" alt=\"Open In Colab\"/></a>"
      ]
    },
    {
      "metadata": {
        "id": "4eXvmVAqsIGu",
        "colab_type": "code",
        "outputId": "9385ec13-5fd2-41e3-dc5e-3794f11d4c56",
        "colab": {
          "base_uri": "https://localhost:8080/",
          "height": 125
        }
      },
      "cell_type": "code",
      "source": [
        "!git clone https://github.com/mgsocial/Keras.git"
      ],
      "execution_count": 1,
      "outputs": [
        {
          "output_type": "stream",
          "text": [
            "Cloning into 'Keras'...\n",
            "remote: Enumerating objects: 12, done.\u001b[K\n",
            "remote: Counting objects: 100% (12/12), done.\u001b[K\n",
            "remote: Compressing objects: 100% (10/10), done.\u001b[K\n",
            "remote: Total 12 (delta 4), reused 0 (delta 0), pack-reused 0\u001b[K\n",
            "Unpacking objects: 100% (12/12), done.\n"
          ],
          "name": "stdout"
        }
      ]
    },
    {
      "metadata": {
        "id": "ElQflpCG_MYZ",
        "colab_type": "text"
      },
      "cell_type": "markdown",
      "source": [
        "# 제 1부 딥러닝의 기초"
      ]
    },
    {
      "metadata": {
        "id": "c4fjAdds_a9b",
        "colab_type": "text"
      },
      "cell_type": "markdown",
      "source": [
        "## 1장 딥러닝이란 무엇인가\n",
        "\n",
        "\n",
        "\n",
        "\n",
        "**AI**는 보통의 사람이 수행하는 지능적인 작업을 자동화하기 위한 연구 활동으로 **머신 러닝**과 **딥러닝**을 포괄하는 종합적인 분야이다.\n",
        "\n",
        "**머신러닝**은 데이터와 데이터로부터 기대되는 라벨을 입력하면 규칙이 출력되는 것으로 명시적으로 프로그램되는 것이 아니라 훈련된다.\n",
        "\n",
        "**딥러닝**은 머신 러닝의 특정한 하나의 분야로서 연속된 **층**에서 점진적으로 의미 있는 **표현**을 배우는 데 강하며, **데이터로부터 표현을 학습하는 수학 모델**이다. \n",
        "\n",
        " -층 기반 표현 학습 / 계층적 표현 학습\n",
        "\n",
        " -다단계 처리 방식 \n",
        "\n",
        " ---\n"
      ]
    },
    {
      "metadata": {
        "id": "NAKEz1Pe_4XZ",
        "colab_type": "text"
      },
      "cell_type": "markdown",
      "source": [
        "  2.1 확률적 모델링\n",
        " 1) 나이브 베이즈 알고리즘\n",
        " 2) 로지스틱 회귀\n",
        " \n",
        "  2.2 초창기 신경망\n",
        " 1) 경사 하강 최적화\n",
        " 2) 합성곱 신경망(CNN)\n",
        " \n",
        "  2.3 커널 방법\n",
        " 1) 서포트 벡터 머신(SVM)\n",
        " \n",
        "  2.4 트리 방법\n",
        " 1) 의사결정트리\n",
        " 2) 랜덤 포레스트 알고리즘(앙상블)\n",
        " 3) 그래디언트 부스팅(손실 학습)\n",
        " \n",
        "   2.5 신경망\n",
        " 1) 심층 합성곱 신경망(ConvNet; CNN)\n",
        " 2) 자연어 처리(NLP-->RNN)\n",
        " 3) 시계열(LSTM)\n",
        "\n",
        "---\n",
        "\n",
        "\n",
        "   **딥러닝의 차이점**\n",
        "\n",
        "    층을 거치면서 점진적으로 더 복잡한 표현 생성(연속적인 온라인 학습)\n",
        "\n",
        "    점진적인 중간 표현이 공동으로 학습됨(쉬운 병렬화)\n",
        "\n",
        "    특성 공학이 필요치 않아 복잡하고 불안정한 엔지니어링 과정을 단순화(엔드-투-엔드)\n",
        "\n"
      ]
    },
    {
      "metadata": {
        "id": "Rg5i6KKmSXK5",
        "colab_type": "text"
      },
      "cell_type": "markdown",
      "source": [
        "## 2장 신경망의 수학적 구성 요소\n"
      ]
    },
    {
      "metadata": {
        "id": "43o1Y2ToZ2fQ",
        "colab_type": "text"
      },
      "cell_type": "markdown",
      "source": [
        " ### 흑백 숫자 분류 문제(MNIST)\n",
        " \n",
        " - 6만 개의 훈련(train) 데이터\n",
        " - 1만 개의 검증(test) 데이터\n",
        "\n",
        "\n",
        " "
      ]
    },
    {
      "metadata": {
        "id": "QQgZJCm2bYf7",
        "colab_type": "code",
        "outputId": "bdac5d8a-0e7d-4ff4-d8d1-e8762c219ab3",
        "colab": {
          "base_uri": "https://localhost:8080/",
          "height": 53
        }
      },
      "cell_type": "code",
      "source": [
        "import keras\n",
        "keras.__version__"
      ],
      "execution_count": 2,
      "outputs": [
        {
          "output_type": "stream",
          "text": [
            "Using TensorFlow backend.\n"
          ],
          "name": "stderr"
        },
        {
          "output_type": "execute_result",
          "data": {
            "text/plain": [
              "'2.2.4'"
            ]
          },
          "metadata": {
            "tags": []
          },
          "execution_count": 2
        }
      ]
    },
    {
      "metadata": {
        "id": "jwNLUWUGZ2ZS",
        "colab_type": "text"
      },
      "cell_type": "markdown",
      "source": [
        "케라스에서 MNIST 데이터셋 적재하기"
      ]
    },
    {
      "metadata": {
        "id": "1rNLBBhSb5QT",
        "colab_type": "code",
        "colab": {
          "base_uri": "https://localhost:8080/",
          "height": 53
        },
        "outputId": "208abe4d-052f-4f99-ce6b-0c54ac8e2a58"
      },
      "cell_type": "code",
      "source": [
        "from keras.datasets import mnist      # NumPy 배열 형태로 케라스에 이미 포함\n",
        "\n",
        "(train_images, train_labels), (test_images, test_labels) = mnist.load_data()"
      ],
      "execution_count": 3,
      "outputs": [
        {
          "output_type": "stream",
          "text": [
            "Downloading data from https://s3.amazonaws.com/img-datasets/mnist.npz\n",
            "11493376/11490434 [==============================] - 2s 0us/step\n"
          ],
          "name": "stdout"
        }
      ]
    },
    {
      "metadata": {
        "id": "SPdfSMbWdALL",
        "colab_type": "text"
      },
      "cell_type": "markdown",
      "source": [
        "`train_images`와 `train_labels`가 모델이 학습해야 할 훈련 세트를 구성합니다. 모델은 `test_images`와 `test_labels`로 구성된 테스트 세트에서 테스트될 것입니다. 이미지는 넘파이 배열로 인코딩되어 있고 레이블은 0에서부터 9까지의 숫자 배열입니다. 이미지와 레이블은 일대일 관계를 가집니다.\n",
        "\n",
        "\n",
        "훈련 데이터를 살펴보겠습니다:\n"
      ]
    },
    {
      "metadata": {
        "id": "0-6JyO0TcRFH",
        "colab_type": "code",
        "outputId": "c6efbb14-26d5-4d3f-a29c-09a9238dd680",
        "colab": {
          "base_uri": "https://localhost:8080/",
          "height": 35
        }
      },
      "cell_type": "code",
      "source": [
        "train_images.shape"
      ],
      "execution_count": 4,
      "outputs": [
        {
          "output_type": "execute_result",
          "data": {
            "text/plain": [
              "(60000, 28, 28)"
            ]
          },
          "metadata": {
            "tags": []
          },
          "execution_count": 4
        }
      ]
    },
    {
      "metadata": {
        "id": "JevESePrd2gu",
        "colab_type": "code",
        "outputId": "faf7fd49-9807-4e04-dae5-9f3c5e438e4e",
        "colab": {
          "base_uri": "https://localhost:8080/",
          "height": 35
        }
      },
      "cell_type": "code",
      "source": [
        "train_images[0].shape         # 28 * 28 픽셀"
      ],
      "execution_count": 5,
      "outputs": [
        {
          "output_type": "execute_result",
          "data": {
            "text/plain": [
              "(28, 28)"
            ]
          },
          "metadata": {
            "tags": []
          },
          "execution_count": 5
        }
      ]
    },
    {
      "metadata": {
        "id": "vAEj7UJTdrJt",
        "colab_type": "code",
        "outputId": "9fe22243-db0e-468d-a167-312e16e34023",
        "colab": {
          "base_uri": "https://localhost:8080/",
          "height": 35
        }
      },
      "cell_type": "code",
      "source": [
        "len(train_labels)"
      ],
      "execution_count": 6,
      "outputs": [
        {
          "output_type": "execute_result",
          "data": {
            "text/plain": [
              "60000"
            ]
          },
          "metadata": {
            "tags": []
          },
          "execution_count": 6
        }
      ]
    },
    {
      "metadata": {
        "id": "fSeoqHFjfCnP",
        "colab_type": "code",
        "outputId": "a45f1de8-7423-41cc-ef77-c62edf6ae3dd",
        "colab": {
          "base_uri": "https://localhost:8080/",
          "height": 35
        }
      },
      "cell_type": "code",
      "source": [
        "train_labels"
      ],
      "execution_count": 7,
      "outputs": [
        {
          "output_type": "execute_result",
          "data": {
            "text/plain": [
              "array([5, 0, 4, ..., 5, 6, 8], dtype=uint8)"
            ]
          },
          "metadata": {
            "tags": []
          },
          "execution_count": 7
        }
      ]
    },
    {
      "metadata": {
        "id": "xb9kIDwJf0pl",
        "colab_type": "text"
      },
      "cell_type": "markdown",
      "source": [
        "다음은 테스트 데이터입니다:"
      ]
    },
    {
      "metadata": {
        "id": "biRoiniyfU3G",
        "colab_type": "code",
        "outputId": "11fe3b53-48f1-4f76-983c-f28f83353a0a",
        "colab": {
          "base_uri": "https://localhost:8080/",
          "height": 35
        }
      },
      "cell_type": "code",
      "source": [
        "test_images.shape"
      ],
      "execution_count": 8,
      "outputs": [
        {
          "output_type": "execute_result",
          "data": {
            "text/plain": [
              "(10000, 28, 28)"
            ]
          },
          "metadata": {
            "tags": []
          },
          "execution_count": 8
        }
      ]
    },
    {
      "metadata": {
        "id": "UIwqWapff505",
        "colab_type": "text"
      },
      "cell_type": "markdown",
      "source": [
        "다섯 번째 샘플을 맷플롯립 라이브러리를 사용해 확인해 보겠습니다."
      ]
    },
    {
      "metadata": {
        "id": "wyyTraEjgP9W",
        "colab_type": "code",
        "colab": {}
      },
      "cell_type": "code",
      "source": [
        "import matplotlib.pyplot as plt"
      ],
      "execution_count": 0,
      "outputs": []
    },
    {
      "metadata": {
        "id": "17oeeEHhgVoI",
        "colab_type": "code",
        "outputId": "55cfd11f-e5c3-4e51-f18b-8289e3cff373",
        "colab": {
          "base_uri": "https://localhost:8080/",
          "height": 347
        }
      },
      "cell_type": "code",
      "source": [
        "digit = train_images[4]\n",
        "\n",
        "plt.imshow(digit, cmap=plt.cm.binary)\n",
        "plt.show()"
      ],
      "execution_count": 10,
      "outputs": [
        {
          "output_type": "display_data",
          "data": {
            "image/png": "[encoded data removed]",
            "text/plain": [
              "<Figure size 576x396 with 1 Axes>"
            ]
          },
          "metadata": {
            "tags": []
          }
        }
      ]
    },
    {
      "metadata": {
        "id": "piwjnpX8Yg9O",
        "colab_type": "text"
      },
      "cell_type": "markdown",
      "source": [
        "   **신경망 작업순서**\n",
        "   \n",
        "   \n",
        "  \n",
        "  1) 훈련 데이터 `train_images`와 `train_labels`를 네트워크에 주입\n",
        "  \n",
        "  2) 그러면 네트워크는 이미지와 레이블을 연관시킬 수 있도록 학습됨. \n",
        "  \n",
        "  3) `test_images`에 대한 예측을 네트워크에게 요청 \n",
        "  \n",
        "  4) 예측이 `test_labels`와 맞는지 확인\n"
      ]
    },
    {
      "metadata": {
        "id": "trk7-qHCkEZ-",
        "colab_type": "text"
      },
      "cell_type": "markdown",
      "source": [
        "  **신경망 구조(망) 생성 단계**"
      ]
    },
    {
      "metadata": {
        "id": "KAs941oyT7Ye",
        "colab_type": "code",
        "colab": {
          "base_uri": "https://localhost:8080/",
          "height": 91
        },
        "outputId": "9bb2b985-f81d-41e1-820b-38e580837311"
      },
      "cell_type": "code",
      "source": [
        "from keras.models import Sequential\n",
        "from keras.layers import Dense\n",
        "\n",
        "network = Sequential()\n",
        "network.add(Dense(512, activation='relu', input_shape=(28 * 28,)))\n",
        "network.add(Dense(10, activation='softmax'))"
      ],
      "execution_count": 11,
      "outputs": [
        {
          "output_type": "stream",
          "text": [
            "WARNING:tensorflow:From /usr/local/lib/python3.6/dist-packages/tensorflow/python/framework/op_def_library.py:263: colocate_with (from tensorflow.python.framework.ops) is deprecated and will be removed in a future version.\n",
            "Instructions for updating:\n",
            "Colocations handled automatically by placer.\n"
          ],
          "name": "stdout"
        }
      ]
    },
    {
      "metadata": {
        "id": "rK0RYJpViszN",
        "colab_type": "text"
      },
      "cell_type": "markdown",
      "source": [
        "이 예에서는 조밀하게 연결된 (또는 완전 연결된) 신경망 층인 `Dense` 층 2개가 연속되어 있다. \n",
        "\n",
        "두 번째 (즉, 마지막) 층은 10개의 확률 점수가 들어 있는 배열(모두 더하면 1입니다)을 반환하는 **소프트맥스 층**이다. \n",
        "각 점수는 현재 숫자 이미지가 10개의 숫자 클래스 중 하나에 속할 확률이다."
      ]
    },
    {
      "metadata": {
        "id": "USvrrQq0jOrv",
        "colab_type": "text"
      },
      "cell_type": "markdown",
      "source": [
        "  **컴파일 단계**\n",
        "\n",
        "* 손실 함수(loss funtion) : 훈련 데이터에서 신경망의 성능을 측정하는 방법\n",
        "\n",
        "\n",
        "* 옵티마이저(optimizer): 입력된 데이터와 손실 함수를 기반으로 네트워크를 업데이트하는 메커니즘\n",
        "\n",
        "\n",
        "* 훈련과 테스트 과정을 모니터링할 지표 : 여기에서는 정확도(정확히 분류된 이미지의 비율)만 고려\n",
        "\n"
      ]
    },
    {
      "metadata": {
        "id": "wnHXoMtq_XOB",
        "colab_type": "code",
        "colab": {}
      },
      "cell_type": "code",
      "source": [
        "network.compile(optimizer='rmsprop', loss='categorical_crossentropy', metrics=['accuracy'])"
      ],
      "execution_count": 0,
      "outputs": []
    },
    {
      "metadata": {
        "id": "HpmFNqZGkYEh",
        "colab_type": "text"
      },
      "cell_type": "markdown",
      "source": [
        "  **데이터 준비 단계(전처리)**"
      ]
    },
    {
      "metadata": {
        "id": "b2VnbPtYSbu_",
        "colab_type": "code",
        "colab": {}
      },
      "cell_type": "code",
      "source": [
        "train_images = train_images.reshape((60000, 28 * 28))     # 2차원 배열로 reshape\n",
        "train_images = train_images.astype('float32') / 255       # 0~1 사이로 스케일링\n",
        "\n",
        "test_images = test_images.reshape((10000, 28 * 28))\n",
        "test_images = test_images.astype('float32') / 255"
      ],
      "execution_count": 0,
      "outputs": []
    },
    {
      "metadata": {
        "id": "dGQ--TPtkxMM",
        "colab_type": "code",
        "colab": {}
      },
      "cell_type": "code",
      "source": [
        "from keras.utils import to_categorical\n",
        "\n",
        "train_labels = to_categorical(train_labels)          # 레이블을 범주형으로 인코딩\n",
        "test_labels = to_categorical(test_labels)"
      ],
      "execution_count": 0,
      "outputs": []
    },
    {
      "metadata": {
        "id": "K16qGRzDmpWR",
        "colab_type": "text"
      },
      "cell_type": "markdown",
      "source": [
        "  **훈련셋 모델 학습 단계**\n",
        "  "
      ]
    },
    {
      "metadata": {
        "id": "NsFcIrrLmeTr",
        "colab_type": "code",
        "outputId": "14da5133-c5ac-4d59-a435-62d026459c8f",
        "colab": {
          "base_uri": "https://localhost:8080/",
          "height": 289
        }
      },
      "cell_type": "code",
      "source": [
        "network.fit(train_images, train_labels, epochs=5, batch_size=128)"
      ],
      "execution_count": 15,
      "outputs": [
        {
          "output_type": "stream",
          "text": [
            "WARNING:tensorflow:From /usr/local/lib/python3.6/dist-packages/tensorflow/python/ops/math_ops.py:3066: to_int32 (from tensorflow.python.ops.math_ops) is deprecated and will be removed in a future version.\n",
            "Instructions for updating:\n",
            "Use tf.cast instead.\n",
            "Epoch 1/5\n",
            "60000/60000 [==============================] - 5s 76us/step - loss: 0.2546 - acc: 0.9266\n",
            "Epoch 2/5\n",
            "60000/60000 [==============================] - 2s 33us/step - loss: 0.1033 - acc: 0.9695\n",
            "Epoch 3/5\n",
            "60000/60000 [==============================] - 2s 34us/step - loss: 0.0686 - acc: 0.9789\n",
            "Epoch 4/5\n",
            "60000/60000 [==============================] - 2s 34us/step - loss: 0.0499 - acc: 0.9853\n",
            "Epoch 5/5\n",
            "60000/60000 [==============================] - 2s 34us/step - loss: 0.0370 - acc: 0.9892\n"
          ],
          "name": "stdout"
        },
        {
          "output_type": "execute_result",
          "data": {
            "text/plain": [
              "<keras.callbacks.History at 0x7f455d406b38>"
            ]
          },
          "metadata": {
            "tags": []
          },
          "execution_count": 15
        }
      ]
    },
    {
      "metadata": {
        "id": "L2lBe5dcokL7",
        "colab_type": "text"
      },
      "cell_type": "markdown",
      "source": [
        "   **테스트셋 모델 검증**\n",
        "    "
      ]
    },
    {
      "metadata": {
        "id": "sDQ71jLGnD5P",
        "colab_type": "code",
        "outputId": "074931b4-bba3-43d0-822c-bbafb43b2952",
        "colab": {
          "base_uri": "https://localhost:8080/",
          "height": 35
        }
      },
      "cell_type": "code",
      "source": [
        "test_loss, test_acc = network.evaluate(test_images, test_labels)"
      ],
      "execution_count": 16,
      "outputs": [
        {
          "output_type": "stream",
          "text": [
            "10000/10000 [==============================] - 0s 47us/step\n"
          ],
          "name": "stdout"
        }
      ]
    },
    {
      "metadata": {
        "id": "jfTmCuJFo0to",
        "colab_type": "code",
        "outputId": "3368ad4f-e9b2-4088-990d-d9afc59ecab5",
        "colab": {
          "base_uri": "https://localhost:8080/",
          "height": 35
        }
      },
      "cell_type": "code",
      "source": [
        "print('test_accuracy:', test_acc)"
      ],
      "execution_count": 17,
      "outputs": [
        {
          "output_type": "stream",
          "text": [
            "test_accuracy: 0.9797\n"
          ],
          "name": "stdout"
        }
      ]
    },
    {
      "metadata": {
        "id": "wWYS9VQYt20z",
        "colab_type": "text"
      },
      "cell_type": "markdown",
      "source": [
        "### 텐서플로 기본 개념\n",
        "\n",
        "  * **텐서**: 데이터를 위한 컨테이너(container)\n",
        "  * **랭크**(rank): 텐서의 축의 개수\n",
        "  * **스칼라**(0D 텐서): 하나의 숫자만 담고 있는 텐서; 0차원의 넘파이 배열\n",
        "  * **벡터**(1D 텐서): 숫자의 배열; 하나의 축을 가지는 텐서\n",
        "  * **행렬**(2D 텐서): ndim == 2\n",
        "  * **3D 텐서와 고차원 텐서**"
      ]
    },
    {
      "metadata": {
        "id": "pdZVHZXSuMNs",
        "colab_type": "text"
      },
      "cell_type": "markdown",
      "source": [
        "  **텐서플로 속성**\n",
        "\n",
        "    -축의 개수(랭크)\n",
        " \n",
        "    -크기(shape)\n",
        " \n",
        "    -데이터타입"
      ]
    },
    {
      "metadata": {
        "id": "CKIfrVZfo5as",
        "colab_type": "code",
        "outputId": "caecc633-2e48-4e9e-c1bc-bc430e37df25",
        "colab": {
          "base_uri": "https://localhost:8080/",
          "height": 35
        }
      },
      "cell_type": "code",
      "source": [
        "print(train_images.ndim)"
      ],
      "execution_count": 18,
      "outputs": [
        {
          "output_type": "stream",
          "text": [
            "2\n"
          ],
          "name": "stdout"
        }
      ]
    },
    {
      "metadata": {
        "id": "ALtRrixDPrU_",
        "colab_type": "code",
        "outputId": "767085bd-3e57-4741-df33-ccb88e9a14c8",
        "colab": {
          "base_uri": "https://localhost:8080/",
          "height": 35
        }
      },
      "cell_type": "code",
      "source": [
        "print(train_images.shape)                     # 28 * 28 = 784"
      ],
      "execution_count": 19,
      "outputs": [
        {
          "output_type": "stream",
          "text": [
            "(60000, 784)\n"
          ],
          "name": "stdout"
        }
      ]
    },
    {
      "metadata": {
        "id": "mJW3Vu95P2f7",
        "colab_type": "code",
        "outputId": "b3a9dabb-c12a-4500-aa1a-ece5c9e3222a",
        "colab": {
          "base_uri": "https://localhost:8080/",
          "height": 35
        }
      },
      "cell_type": "code",
      "source": [
        "print(train_images.dtype)"
      ],
      "execution_count": 20,
      "outputs": [
        {
          "output_type": "stream",
          "text": [
            "float32\n"
          ],
          "name": "stdout"
        }
      ]
    },
    {
      "metadata": {
        "id": "3fS1N8YQQplk",
        "colab_type": "code",
        "colab": {}
      },
      "cell_type": "code",
      "source": [
        "train_images = train_images.reshape(60000, 28, 28)"
      ],
      "execution_count": 0,
      "outputs": []
    },
    {
      "metadata": {
        "id": "0AF8dYzeRsEw",
        "colab_type": "code",
        "outputId": "f581fe7b-ed45-483f-87f2-4c60792231d7",
        "colab": {
          "base_uri": "https://localhost:8080/",
          "height": 35
        }
      },
      "cell_type": "code",
      "source": [
        "train_images.shape"
      ],
      "execution_count": 22,
      "outputs": [
        {
          "output_type": "execute_result",
          "data": {
            "text/plain": [
              "(60000, 28, 28)"
            ]
          },
          "metadata": {
            "tags": []
          },
          "execution_count": 22
        }
      ]
    },
    {
      "metadata": {
        "id": "9ViJyCUZR298",
        "colab_type": "code",
        "outputId": "521fdb25-674f-4e58-c31d-556ce8dc3d67",
        "colab": {
          "base_uri": "https://localhost:8080/",
          "height": 35
        }
      },
      "cell_type": "code",
      "source": [
        "my_slice = train_images[10:100]\n",
        "print(my_slice.shape)"
      ],
      "execution_count": 23,
      "outputs": [
        {
          "output_type": "stream",
          "text": [
            "(90, 28, 28)\n"
          ],
          "name": "stdout"
        }
      ]
    },
    {
      "metadata": {
        "id": "rhhjrFsVSgHN",
        "colab_type": "code",
        "outputId": "c76c03e2-42a6-4945-c073-6bb1c2f87ad6",
        "colab": {
          "base_uri": "https://localhost:8080/",
          "height": 35
        }
      },
      "cell_type": "code",
      "source": [
        "my_slice = train_images[10:100, : , :]                  # : 전체 인덱스\n",
        "print(my_slice.shape)"
      ],
      "execution_count": 24,
      "outputs": [
        {
          "output_type": "stream",
          "text": [
            "(90, 28, 28)\n"
          ],
          "name": "stdout"
        }
      ]
    },
    {
      "metadata": {
        "id": "_Twhr1zRTr9E",
        "colab_type": "code",
        "outputId": "dd95ec88-31f9-4a25-9012-bc2c904b4318",
        "colab": {
          "base_uri": "https://localhost:8080/",
          "height": 35
        }
      },
      "cell_type": "code",
      "source": [
        "my_slice = train_images[10:100, 0:28 , 0:28]           \n",
        "print(my_slice.shape)"
      ],
      "execution_count": 25,
      "outputs": [
        {
          "output_type": "stream",
          "text": [
            "(90, 28, 28)\n"
          ],
          "name": "stdout"
        }
      ]
    },
    {
      "metadata": {
        "id": "DaJOrpa4trVt",
        "colab_type": "code",
        "colab": {}
      },
      "cell_type": "code",
      "source": [
        "import numpy as np"
      ],
      "execution_count": 0,
      "outputs": []
    },
    {
      "metadata": {
        "id": "qV9SijM0VbFC",
        "colab_type": "text"
      },
      "cell_type": "markdown",
      "source": [
        " * numpy(Numerical Python)  메서드\n",
        "     \n",
        "     - data.ndim : 차원의 수\n",
        "     - data.shape : 차원의 크기\n",
        "     - data.dtype :  저장된 자료형\n",
        "     - data.astype() : 자료형 변경\n",
        "     - data.reshape() : 크기 변경\n",
        "     - data.swapaxes() : 축의 위치 변경\n",
        "     \n",
        "     - data.argmax() : \n",
        "     - np.maximum()\n",
        "     \n",
        "     - np.equl() :\n",
        "     - np.exp() :\n",
        "     - np.expand_dims() : \n",
        "     - np.random.randint() : \n",
        "     - np.eye() :\n",
        "     "
      ]
    },
    {
      "metadata": {
        "id": "sm_Xcnwb3duu",
        "colab_type": "text"
      },
      "cell_type": "markdown",
      "source": [
        "https://towardsdatascience.com/lets-code-a-neural-network-in-plain-numpy-ae7e74410795\n"
      ]
    },
    {
      "metadata": {
        "id": "aMrnGbB54A-y",
        "colab_type": "text"
      },
      "cell_type": "markdown",
      "source": [
        "**배치 데이터** "
      ]
    },
    {
      "metadata": {
        "id": "slxKmR8c5I7I",
        "colab_type": "text"
      },
      "cell_type": "markdown",
      "source": [
        "**벡터 데이터** : (samples, features) 행렬 크기의 2D 텐서; 대부분의 경우\n",
        "\n",
        "**시계열 데이터 또는 시퀀스 데이터** : (samples, timesteps, features) 크기의 3D 텐서; \n",
        "\n",
        " ![3D 시계열 데이터](https://www.oreilly.com/library/view/deep-learning/9781491924570/assets/dpln_0417.png)\n",
        "\n",
        "\n",
        "**이미지 데이터** : (samples, height, width, channels) or (samples, channels,  height, width) 크기의 4D 텐서; 텐서플로에서 사용하는 channels-last 방식과 씨아노에서 사용하는 channel-first 방식\n",
        "\n",
        "**비디오 데이터** : (samples, frames, height, width, channels) or (samples, frames, channels, height, width) 크기의 5D 텐서; 하나의 비디오는 프레임의 연속이고 각 프레임은 하나의 컬러 이미지\n",
        "\n",
        "\n",
        "\n"
      ]
    },
    {
      "metadata": {
        "id": "OePjVKjNresh",
        "colab_type": "text"
      },
      "cell_type": "markdown",
      "source": [
        "**텐서 연산**\n",
        "\n",
        "\n",
        "케라스의 층은 다음과 같이 생성합니다.\n"
      ]
    },
    {
      "metadata": {
        "id": "aLe-HEY44hLg",
        "colab_type": "code",
        "colab": {
          "base_uri": "https://localhost:8080/",
          "height": 35
        },
        "outputId": "f8d88f96-dd0d-4a9b-db69-82b963b5ab26"
      },
      "cell_type": "code",
      "source": [
        "keras.layers.Dense(512, activation='relu')"
      ],
      "execution_count": 29,
      "outputs": [
        {
          "output_type": "execute_result",
          "data": {
            "text/plain": [
              "<keras.layers.core.Dense at 0x7f455a41ae10>"
            ]
          },
          "metadata": {
            "tags": []
          },
          "execution_count": 29
        }
      ]
    },
    {
      "metadata": {
        "id": "HnOT4IQPtHZq",
        "colab_type": "code",
        "colab": {}
      },
      "cell_type": "code",
      "source": [
        "def relu(x):\n",
        "    return np.maximum(0,x)"
      ],
      "execution_count": 0,
      "outputs": []
    },
    {
      "metadata": {
        "id": "6b5XS2b5uEFq",
        "colab_type": "code",
        "colab": {}
      },
      "cell_type": "code",
      "source": [
        "def dot(W, x) :\n",
        "  return np.dot(x, W)"
      ],
      "execution_count": 0,
      "outputs": []
    },
    {
      "metadata": {
        "id": "eeshu77QucXq",
        "colab_type": "code",
        "colab": {}
      },
      "cell_type": "code",
      "source": [
        "W = np.array([[1,2,3], [1,2,3]], dtype='float32')"
      ],
      "execution_count": 0,
      "outputs": []
    },
    {
      "metadata": {
        "id": "zq9bY56_us1_",
        "colab_type": "code",
        "colab": {}
      },
      "cell_type": "code",
      "source": [
        "x = np.array([[1,2], [1,2], [1,2]], dtype='float32')"
      ],
      "execution_count": 0,
      "outputs": []
    },
    {
      "metadata": {
        "id": "srj8ODPGviV6",
        "colab_type": "code",
        "colab": {}
      },
      "cell_type": "code",
      "source": [
        "b = 1"
      ],
      "execution_count": 0,
      "outputs": []
    },
    {
      "metadata": {
        "id": "gb35f0tUsiHG",
        "colab_type": "code",
        "colab": {}
      },
      "cell_type": "code",
      "source": [
        "output = relu(dot(W, x) + b)"
      ],
      "execution_count": 0,
      "outputs": []
    },
    {
      "metadata": {
        "id": "pO2SB5n4v8HE",
        "colab_type": "text"
      },
      "cell_type": "markdown",
      "source": [
        "원소별 연산\n",
        "\n",
        "\n",
        "파이썬으로 단순한 원소별 연산을 구현한다면 다음 relu 연산 구현처럼 for 반복문을 사용할 것입니다."
      ]
    },
    {
      "metadata": {
        "id": "ijxVFFWeu-OZ",
        "colab_type": "code",
        "colab": {}
      },
      "cell_type": "code",
      "source": [
        "def naive_relu(x):\n",
        "    assert len(x.shape) == 2                 # x는 2D 넘파이 배열입니다.\n",
        "\n",
        "    x = x.copy()                            # 입력 텐서 자체를 바꾸지 않도록 복사합니다.\n",
        "    for i in range(x.shape[0]):\n",
        "        for j in range(x.shape[1]):\n",
        "            x[i, j] = max(x[i, j], 0)\n",
        "    return x"
      ],
      "execution_count": 0,
      "outputs": []
    },
    {
      "metadata": {
        "id": "2do7W42lwrL_",
        "colab_type": "code",
        "colab": {}
      },
      "cell_type": "code",
      "source": [
        "def naive_add(x, y):\n",
        "    assert len(x.shape) == 2               # x와 y는 2D 넘파이 배열입니다.\n",
        "    assert x.shape == y.shape\n",
        "\n",
        "    x = x.copy()                          # 입력 텐서 자체를 바꾸지 않도록 복사합니다.\n",
        "    for i in range(x.shape[0]):\n",
        "        for j in range(x.shape[1]):\n",
        "            x[i, j] += y[i, j]\n",
        "    return x"
      ],
      "execution_count": 0,
      "outputs": []
    },
    {
      "metadata": {
        "id": "3zFH5B-i0UiR",
        "colab_type": "text"
      },
      "cell_type": "markdown",
      "source": [
        "브로드캐스팅\n",
        "\n",
        "모호하지 않고 실행 가능하다면 작은 텐서가 큰 텐서의 크기에 맞추어 브로드캐스팅(broadcasting)됩니다.\n",
        "\n",
        "예를들어,\n",
        "X의 크기는 (32, 10)이고 y의 크기는 (10,)라고 가정합시다. 먼저 y에 비어 있는 첫 번째 축을 추가하여 크기를 (1, 10)으로 만듭니다. 그런 다음 y를 이 축에 32번 반복하면 텐서 Y의 크기는 (32, 10)이 됩니다. 여기에서 Y[i, :] == y for i in range(0, 32)입니다. 이제 X와 Y의 크기가 같으므로 더할 수 있습니다."
      ]
    },
    {
      "metadata": {
        "id": "8DtXOZN-0eNs",
        "colab_type": "code",
        "colab": {}
      },
      "cell_type": "code",
      "source": [
        "def naive_add_matrix_and_vector(x, y):\n",
        "    assert len(x.shape) == 2                   #  x는 2D 넘파이 배열입니다.\n",
        "    assert len(y.shape) == 1                   # y는 넘파이 벡터입니다.\n",
        "    assert x.shape[1] == y.shape[0]\n",
        "\n",
        "    x = x.copy()                              # 입력 텐서 자체를 바꾸지 않도록 복사합니다.\n",
        "    for i in range(x.shape[0]):\n",
        "        for j in range(x.shape[1]):\n",
        "            x[i, j] += y[j]\n",
        "    return x"
      ],
      "execution_count": 0,
      "outputs": []
    },
    {
      "metadata": {
        "id": "Fvuck-SC1SzZ",
        "colab_type": "code",
        "colab": {}
      },
      "cell_type": "code",
      "source": [
        "x = np.random.random((64, 3, 32, 10))                   # x는 (64, 3, 32, 10) 크기의 랜덤 텐서입니다.\n",
        "y = np.random.random((32, 10))                          # y는 (32, 10) 크기의 랜덤 텐서입니다.\n",
        "\n",
        "z = np.maximum(x, y)                                    # 출력 z 크기는 x와 동일하게 (64, 3, 32, 10)입니다."
      ],
      "execution_count": 0,
      "outputs": []
    },
    {
      "metadata": {
        "id": "nya9U4Fk1uQt",
        "colab_type": "code",
        "colab": {
          "base_uri": "https://localhost:8080/",
          "height": 35
        },
        "outputId": "34ae0df1-a4ec-4ccc-fb16-8f71224d408c"
      },
      "cell_type": "code",
      "source": [
        "z.shape"
      ],
      "execution_count": 61,
      "outputs": [
        {
          "output_type": "execute_result",
          "data": {
            "text/plain": [
              "(64, 3, 32, 10)"
            ]
          },
          "metadata": {
            "tags": []
          },
          "execution_count": 61
        }
      ]
    },
    {
      "metadata": {
        "id": "crxB0IO92s7j",
        "colab_type": "text"
      },
      "cell_type": "markdown",
      "source": [
        "텐서 점곱\n",
        "\n",
        "\n",
        "텐서플로에서는 tf.matmul(x, y)처럼 사용합니다. 파이썬 3.5 이상에서는 x @ y처럼 계산할 수도 있습니다. 케라스에서는 from keras import backend as K; K.dot(x, y)처럼 사용합니다."
      ]
    },
    {
      "metadata": {
        "id": "boMQ8iwP2Mpi",
        "colab_type": "code",
        "colab": {}
      },
      "cell_type": "code",
      "source": [
        "def naive_vector_dot(x, y):\n",
        "    assert len(x.shape) == 1                      #  x와 y는 넘파이 벡터입니다.\n",
        "    assert len(y.shape) == 1\n",
        "    assert x.shape[0] == y.shape[0]\n",
        "\n",
        "    z = 0.\n",
        "    for i in range(x.shape[0]):\n",
        "        z += x[i] * y[i]\n",
        "    return z"
      ],
      "execution_count": 0,
      "outputs": []
    },
    {
      "metadata": {
        "id": "39NKxZTH3oSu",
        "colab_type": "code",
        "colab": {}
      },
      "cell_type": "code",
      "source": [
        "def naive_matrix_vector_dot(x, y):\n",
        "    assert len(x.shape) == 2                  #  x는 넘파이 행렬입니다.\n",
        "    assert len(y.shape) == 1                  # y는 넘파이 벡터입니다.\n",
        "    assert x.shape[1] == y.shape[0]           #  x의 두 번째 차원이 y의 첫 번째 차원과 같아야 합니다!\n",
        "\n",
        "    z = np.zeros(x.shape[0])                  # 이 연산은 x의 행과 같은 크기의 0이 채워진 벡터를 만듭니다.\n",
        "    for i in range(x.shape[0]):\n",
        "        for j in range(x.shape[1]):\n",
        "            z[i] += x[i, j] * y[j]\n",
        "    return z"
      ],
      "execution_count": 0,
      "outputs": []
    },
    {
      "metadata": {
        "id": "nHW48O1T4Ojp",
        "colab_type": "code",
        "colab": {}
      },
      "cell_type": "code",
      "source": [
        "def naive_matrix_vector_dot(x, y):\n",
        "    z = np.zeros(x.shape[0])\n",
        "    for i in range(x.shape[0]):\n",
        "        z[i] = naive_vector_dot(x[i, :], y)\n",
        "    return z"
      ],
      "execution_count": 0,
      "outputs": []
    },
    {
      "metadata": {
        "id": "UVZTzqbB44wf",
        "colab_type": "text"
      },
      "cell_type": "markdown",
      "source": [
        "두 텐서 중 하나라도 ndim이 1보다 크면 dot 연산에 교환 법칙이 성립되지 않습니다."
      ]
    },
    {
      "metadata": {
        "id": "CKNndDpi4qoZ",
        "colab_type": "code",
        "colab": {}
      },
      "cell_type": "code",
      "source": [
        "def naive_matrix_dot(x, y):\n",
        "\n",
        "    assert len(x.shape) == 2                      #  x와 y는 넘파이 행렬입니다.\n",
        "    assert len(y.shape) == 2\n",
        "    assert x.shape[1] == y.shape[0]           # x의 두 번째 차원이 y의 첫 번째 차원과 같아야 합니다!\n",
        "\n",
        "    z = np.zeros((x.shape[0], y.shape[1]))     # 이 연산은 0이 채워진 특정 크기의 벡터를 만듭니다.\n",
        "    for i in range(x.shape[0]):                  #  x의 행을 반복합니다.\n",
        "        for j in range(y.shape[1]):              # y의 열을 반복합니다.\n",
        "            row_x = x[i, :]\n",
        "            column_y = y[:, j]\n",
        "            z[i, j] = naive_vector_dot(row_x, column_y)\n",
        "    return z"
      ],
      "execution_count": 0,
      "outputs": []
    },
    {
      "metadata": {
        "id": "BEkFjSDJ6BsO",
        "colab_type": "text"
      },
      "cell_type": "markdown",
      "source": [
        "고차원 텐서 간의 점곱을 할 수 있습니다.\n",
        "\n",
        "(a, b, c, d) . (d,) -> (a, b, c)\n",
        "\n",
        "(a, b, c, d) . (d, e) -> (a, b, c, e)"
      ]
    },
    {
      "metadata": {
        "id": "5GSH-PfI6Fyf",
        "colab_type": "text"
      },
      "cell_type": "markdown",
      "source": [
        "**텐서 크기 변환**\n",
        "\n",
        "\n",
        "당연히 크기가 변환된 텐서는 원래 텐서와 원소 개수가 동일합니다. "
      ]
    },
    {
      "metadata": {
        "id": "cHaNJYgD5fgG",
        "colab_type": "code",
        "colab": {}
      },
      "cell_type": "code",
      "source": [
        "train_images = train_images.reshape((60000, 28 * 28))"
      ],
      "execution_count": 0,
      "outputs": []
    },
    {
      "metadata": {
        "id": "z29BDnd06ghD",
        "colab_type": "code",
        "colab": {
          "base_uri": "https://localhost:8080/",
          "height": 35
        },
        "outputId": "0987bb1d-ed9e-4984-9b30-e818a0205c26"
      },
      "cell_type": "code",
      "source": [
        "x = np.array([[0., 1.],\n",
        "\t            [2., 3.],\n",
        "              [4., 5.]])\n",
        "print(x.shape)"
      ],
      "execution_count": 73,
      "outputs": [
        {
          "output_type": "stream",
          "text": [
            "(3, 2)\n"
          ],
          "name": "stdout"
        }
      ]
    },
    {
      "metadata": {
        "id": "qN74vWVo6wr8",
        "colab_type": "code",
        "colab": {
          "base_uri": "https://localhost:8080/",
          "height": 125
        },
        "outputId": "d3abff41-bc93-4743-8fdb-01a7c0ad2c92"
      },
      "cell_type": "code",
      "source": [
        "x = x.reshape((6, 1))\n",
        "x"
      ],
      "execution_count": 76,
      "outputs": [
        {
          "output_type": "execute_result",
          "data": {
            "text/plain": [
              "array([[0.],\n",
              "       [1.],\n",
              "       [2.],\n",
              "       [3.],\n",
              "       [4.],\n",
              "       [5.]])"
            ]
          },
          "metadata": {
            "tags": []
          },
          "execution_count": 76
        }
      ]
    },
    {
      "metadata": {
        "id": "bnwgEXhH61EN",
        "colab_type": "code",
        "colab": {
          "base_uri": "https://localhost:8080/",
          "height": 53
        },
        "outputId": "c4cf5617-7efa-4331-e92d-f6fd61361d06"
      },
      "cell_type": "code",
      "source": [
        "x = x.reshape((2, 3))\n",
        "x"
      ],
      "execution_count": 79,
      "outputs": [
        {
          "output_type": "execute_result",
          "data": {
            "text/plain": [
              "array([[0., 1., 2.],\n",
              "       [3., 4., 5.]])"
            ]
          },
          "metadata": {
            "tags": []
          },
          "execution_count": 79
        }
      ]
    },
    {
      "metadata": {
        "id": "O-AptF3k7UBu",
        "colab_type": "text"
      },
      "cell_type": "markdown",
      "source": [
        "자주 사용하는 특별한 크기 변환은 전치(transposition)입니다. "
      ]
    },
    {
      "metadata": {
        "id": "vGHSaACj7JWH",
        "colab_type": "code",
        "colab": {
          "base_uri": "https://localhost:8080/",
          "height": 35
        },
        "outputId": "34c34b93-bcb2-4739-979d-3b4ebc0e967c"
      },
      "cell_type": "code",
      "source": [
        "x = np.zeros((300, 20))\n",
        "x = np.transpose(x)\n",
        "print(x.shape)"
      ],
      "execution_count": 84,
      "outputs": [
        {
          "output_type": "stream",
          "text": [
            "(20, 300)\n"
          ],
          "name": "stdout"
        }
      ]
    },
    {
      "metadata": {
        "id": "zWe1-pX77Qr6",
        "colab_type": "code",
        "colab": {
          "base_uri": "https://localhost:8080/",
          "height": 35
        },
        "outputId": "5f45a3c6-d1c5-4742-bc87-6ae97fcd3369"
      },
      "cell_type": "code",
      "source": [
        "x = x.T\n",
        "print(x.shape)"
      ],
      "execution_count": 85,
      "outputs": [
        {
          "output_type": "stream",
          "text": [
            "(300, 20)\n"
          ],
          "name": "stdout"
        }
      ]
    },
    {
      "metadata": {
        "id": "Rwdua6-j9T6f",
        "colab_type": "text"
      },
      "cell_type": "markdown",
      "source": [
        "**그래디언트 기반 최적화**\n",
        "\n",
        "\n",
        "\n",
        "\n",
        "\n",
        "output = relu(dot(W, input) + b)\n",
        "\n",
        "\n",
        "\n",
        "\n",
        "\n",
        "이 식에서 텐서 W와 b는 층의 속성처럼 볼 수 있습니다. **가중치**(weight) 또는 훈련되는 파라미터(trainable parameter)라고 부릅니다(각각 커널(kernel)25과 **편향**(bias)이라고 부르기도 합니다). 이런 가중치에는 훈련 데이터를 신경망에 노출시켜서 학습된 정보가 담겨 있습니다.\n",
        "\n",
        "초기에는 가중치 행렬이 작은 난수로 채워져 있습니다(**무작위 초기화**(random initialization) 단계라고 부릅니다). \n",
        "\n",
        "피드백 신호에 기초하여 가중치가 점진적으로 조정될 것입니다. 이런 점진적인 조정 또는 **훈련**(training)이 머신 러닝 학습의 핵심입니다.\n",
        "\n"
      ]
    },
    {
      "metadata": {
        "id": "a0N3tqCiCYDN",
        "colab_type": "text"
      },
      "cell_type": "markdown",
      "source": [
        "신경망에 사용된 모든 연산이 **미분 가능**(differentiable)하다는 장점을 사용하여 네트워크 가중치에 대한 손실의 **그래디언트**(gradient)를 계산하는 것이 훨씬 더 좋은 방법입니다. 그래디언트의 반대 방향으로 가중치를 이동하면 손실이 감소됩니다."
      ]
    },
    {
      "metadata": {
        "id": "h9fRiyGBCwQD",
        "colab_type": "text"
      },
      "cell_type": "markdown",
      "source": [
        "그래디언트(gradient(f)(W0))는 텐서 연산의 변화율()W0에서 f(W)의 기울기)입니다."
      ]
    },
    {
      "metadata": {
        "id": "I4WvzR7QEJtN",
        "colab_type": "text"
      },
      "cell_type": "markdown",
      "source": [
        "함수 f(W)의 입장에서는 그래디언트의 반대 방향으로 W를 움직이면 f(W)의 값을 줄일 수 있습니다.29 예를 들어 **W1 = W0 - step * gradient(f)(W0)** 입니다(step은 스케일을 조정하기 위한 작은 값입니다). "
      ]
    },
    {
      "metadata": {
        "id": "Wyor4p3QFKVF",
        "colab_type": "text"
      },
      "cell_type": "markdown",
      "source": [
        "**확률적 경사 하강법**\n",
        "\n",
        "\n",
        "1. 훈련 샘플 배치 x와 이에 상응하는 타깃 y를 추출합니다.\n",
        "\n",
        "2. x를 사용하여 네트워크를 실행하고(정방향 패스(forward pass) 단계), 예측 y_pred를 구합니다.\n",
        "\n",
        "3. 이 배치에서 y_pred와 y 사이의 오차를 측정하여 네트워크의 손실을 계산합니다.\n",
        "\n",
        "4. 네트워크의 파라미터에 대한 손실 함수의 그래디언트를 계산합니다(역방향 패스(backward pass)).\n",
        "\n",
        "5. 그래디언트의 반대 방향으로 파라미터를 조금 이동시킵니다. 예를 들어 W -= step * grad3ient처럼 하면 배치에 대한 손실이 조금 감소할 것입니다.\n",
        "\n",
        "6. 네트워크의 모든 가중치를 업데이트합니다."
      ]
    },
    {
      "metadata": {
        "id": "Y3wIXgNwUdri",
        "colab_type": "text"
      },
      "cell_type": "markdown",
      "source": [
        "![대체 텍스트](https://i1.wp.com/mstst33.com/wp-content/uploads/2018/11/%E1%84%89%E1%85%B3%E1%84%8F%E1%85%B3%E1%84%85%E1%85%B5%E1%86%AB%E1%84%89%E1%85%A3%E1%86%BA-2018-11-23-%E1%84%8B%E1%85%A9%E1%84%92%E1%85%AE-7.29.17.png?resize=300%2C258)"
      ]
    },
    {
      "metadata": {
        "id": "BJbT2J1H-Y1L",
        "colab_type": "code",
        "colab": {
          "base_uri": "https://localhost:8080/",
          "height": 395
        },
        "outputId": "4736fad1-efb9-46b4-fa48-bd66653cd2a2"
      },
      "cell_type": "code",
      "source": [
        "import tensorflow as tf\n",
        "\n",
        "# x, y의 데이터 값\n",
        "data = [[2, 81], [4, 93], [6, 91], [8, 97]]\n",
        "x_data = [x_row[0] for x_row in data]\n",
        "y_data = [y_row[1] for y_row in data]\n",
        "\n",
        "# 기울기 a와 y 절편 b의 값을 임의로 정한다.\n",
        "# 단, 기울기의 범위는 0 ~ 10 사이이며 y 절편은 0 ~ 100 사이에서 변하게 한다.\n",
        "a = tf.Variable(tf.random_uniform([1], 0, 10, dtype = tf.float64, seed = 0))\n",
        "b = tf.Variable(tf.random_uniform([1], 0, 100, dtype = tf.float64, seed = 0))\n",
        "\n",
        "# y에 대한 일차 방정식 ax+b의 식을 세운다.\n",
        "y = a * x_data + b\n",
        "\n",
        "# 텐서플로 RMSE 함수\n",
        "rmse = tf.sqrt(tf.reduce_mean(tf.square( y - y_data )))\n",
        "\n",
        "# 학습률 값\n",
        "learning_rate = 0.1\n",
        "\n",
        "# RMSE 값을 최소로 하는 값 찾기\n",
        "gradient_decent = tf.train.GradientDescentOptimizer(learning_rate).minimize(rmse)\n",
        "\n",
        "# 텐서플로를 이용한 학습\n",
        "with tf.Session() as sess:\n",
        "    # 변수 초기화\n",
        "    sess.run(tf.global_variables_initializer())\n",
        "    # 2001번 실행(0번 째를 포함하므로)\n",
        "    for step in range(2001):\n",
        "        sess.run(gradient_decent)\n",
        "        # 100번마다 결과 출력\n",
        "        if step % 100 == 0:\n",
        "            print(\"Epoch: %.f, RMSE = %.04f, 기울기 a = %.4f, y 절편 b = %.4f\" % (step,sess.run(rmse),sess.run(a),sess.run(b)))\n"
      ],
      "execution_count": 87,
      "outputs": [
        {
          "output_type": "stream",
          "text": [
            "Epoch: 0, RMSE = 30.2139, 기울기 a = 7.5235, y 절편 b = 80.5984\n",
            "Epoch: 100, RMSE = 2.8860, 기울기 a = 2.2299, y 절편 b = 79.4181\n",
            "Epoch: 200, RMSE = 2.8826, 기울기 a = 2.2601, y 절편 b = 79.2379\n",
            "Epoch: 300, RMSE = 2.8815, 기울기 a = 2.2773, y 절편 b = 79.1353\n",
            "Epoch: 400, RMSE = 2.8811, 기울기 a = 2.2871, y 절편 b = 79.0770\n",
            "Epoch: 500, RMSE = 2.8810, 기울기 a = 2.2927, y 절편 b = 79.0438\n",
            "Epoch: 600, RMSE = 2.8810, 기울기 a = 2.2958, y 절편 b = 79.0249\n",
            "Epoch: 700, RMSE = 2.8810, 기울기 a = 2.2976, y 절편 b = 79.0142\n",
            "Epoch: 800, RMSE = 2.8810, 기울기 a = 2.2987, y 절편 b = 79.0081\n",
            "Epoch: 900, RMSE = 2.8810, 기울기 a = 2.2992, y 절편 b = 79.0046\n",
            "Epoch: 1000, RMSE = 2.8810, 기울기 a = 2.2996, y 절편 b = 79.0026\n",
            "Epoch: 1100, RMSE = 2.8810, 기울기 a = 2.2998, y 절편 b = 79.0015\n",
            "Epoch: 1200, RMSE = 2.8810, 기울기 a = 2.2999, y 절편 b = 79.0008\n",
            "Epoch: 1300, RMSE = 2.8810, 기울기 a = 2.2999, y 절편 b = 79.0005\n",
            "Epoch: 1400, RMSE = 2.8810, 기울기 a = 2.3000, y 절편 b = 79.0003\n",
            "Epoch: 1500, RMSE = 2.8810, 기울기 a = 2.3000, y 절편 b = 79.0002\n",
            "Epoch: 1600, RMSE = 2.8810, 기울기 a = 2.3000, y 절편 b = 79.0001\n",
            "Epoch: 1700, RMSE = 2.8810, 기울기 a = 2.3000, y 절편 b = 79.0001\n",
            "Epoch: 1800, RMSE = 2.8810, 기울기 a = 2.3000, y 절편 b = 79.0000\n",
            "Epoch: 1900, RMSE = 2.8810, 기울기 a = 2.3000, y 절편 b = 79.0000\n",
            "Epoch: 2000, RMSE = 2.8810, 기울기 a = 2.3000, y 절편 b = 79.0000\n"
          ],
          "name": "stdout"
        }
      ]
    },
    {
      "metadata": {
        "id": "ah0NiHsOJzA4",
        "colab_type": "text"
      },
      "cell_type": "markdown",
      "source": [
        "대상 파라미터가 작은 학습률을 가진 SGD로 최적화되었다면 최적화 과정이 전역 최솟값으로 향하지 못하고 이 지역 최솟값에 갇히게 될 것입니다."
      ]
    },
    {
      "metadata": {
        "id": "jRgMWOZNIz3L",
        "colab_type": "text"
      },
      "cell_type": "markdown",
      "source": [
        "![SGD](https://sds-platform-private.s3-us-east-2.amazonaws.com/uploads/48_blog_image_2.png)"
      ]
    },
    {
      "metadata": {
        "id": "urzB838QLvmO",
        "colab_type": "text"
      },
      "cell_type": "markdown",
      "source": [
        "모멘텀이 충분하면 공이 골짜기에 갇히지 않고 전역 최솟값에 도달할 것입니다. 모멘텀은 현재 기울기 값(현재 가속도)뿐만 아니라 (과거의 가속도로 인한) 현재 속도를 함께 고려하여 각 단계에서 공을 움직입니다."
      ]
    },
    {
      "metadata": {
        "id": "SJbDi7eoL9UY",
        "colab_type": "text"
      },
      "cell_type": "markdown",
      "source": [
        "**고급 경사 하강법**\n",
        "\n",
        "1. 확률적 경사 하강법(SGD): 랜덤하게 추출한 일부 데이터를 사용해 더 빨리, 자주 업데이트를 하게 하는 것 --> 속도 개선 효과 \n",
        " \n",
        " keras.optimizer.SGD(lr = 0.1)\n",
        "\n",
        "2. 모멘텀(Momentum): 관성의 방향을 고려해 진동과 폭을 줄이는 효과 --> 정확도 개선  \n",
        "\n",
        " keras.optimizer.SGD(lr = 0.1, momentum = 0.9)\n",
        " \n",
        "3. 네스테로프 모멘텀(NAG): 모멘텀이 이동시킬 방향으로 미리 이동해서 그레이디언트를 계산. 불필요한 이동을 줄이는 효과 --> 정확도 개선\n",
        "\n",
        " keras.optimizer.SGD(lr = 0.1, momentum = 0.9, nesterov = True)\n",
        " \n",
        "4. 아다그라드(Adagrad): 변수의 업데이트가 잦으면 학습률을 적게 하여 이동 보폭을 조절하는 방법 --> 보폭 크기 개선\n",
        "\n",
        " keras.optimizer.Adagrad(lr = 0.01, epsilon = 1e - 6)\n",
        " \n",
        " 5. 알엠에스프롭(RMSProp): 아다그라드의 보폭 민감도를 보완한 방법 --> 보폭 크기 개선\n",
        " \n",
        " keras.optimizer.RMSprop(lr = 0.001, rho = 0.9, epsilon = 1e - 08, decay = 0.0)\n",
        " \n",
        " 6. 아담(Adam): 모멘텀과 알엠에스프롭 방법을 합친 방법 --> 정확도와 보폭 크기 개선\n",
        " \n",
        " keras.optimizer.Adam(lr = 0.001, beta_1 = 0.9, beta_2 = 0.999, epsilon = 1e - 08, decay = 0.0)"
      ]
    },
    {
      "metadata": {
        "id": "pYOp_RgoV9JE",
        "colab_type": "text"
      },
      "cell_type": "markdown",
      "source": [
        "**역전파 알고리즘**\n",
        "\n",
        "연쇄 법칙을 신경망의 그래디언트 계산에 적용하여 역전파(Backpropagation) 알고리즘(후진 모드 자동 미분(reverse-mode automatic differentiation)이라고도 부릅니다)이 탄생되었습니다. "
      ]
    },
    {
      "metadata": {
        "id": "NOt--y9hTBsi",
        "colab_type": "code",
        "colab": {}
      },
      "cell_type": "code",
      "source": [
        ""
      ],
      "execution_count": 0,
      "outputs": []
    }
  ]
}